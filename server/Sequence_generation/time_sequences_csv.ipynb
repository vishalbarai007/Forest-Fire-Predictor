{
 "cells": [
  {
   "cell_type": "code",
   "execution_count": 1,
   "id": "0c700b40-bb8d-4cbf-9102-ee11e8291fd7",
   "metadata": {},
   "outputs": [],
   "source": [
    "import rasterio\n",
    "import pandas as pd\n",
    "from datetime import datetime, timedelta"
   ]
  },
  {
   "cell_type": "code",
   "execution_count": 2,
   "id": "4dc7ad96-8ec1-4d1a-ac08-a023844daa45",
   "metadata": {},
   "outputs": [],
   "source": [
    "\n",
    "era5_path = r\"C:\\Users\\Ankit\\Datasets_Forest_fire\\VIIRS_fire_time_stack1.tif\"\n",
    "with rasterio.open(era5_path) as src:\n",
    "    era5_array = src.read(1)"
   ]
  },
  {
   "cell_type": "code",
   "execution_count": 8,
   "id": "92af4e92-911e-42c3-a7fd-c094f97269bd",
   "metadata": {},
   "outputs": [],
   "source": []
  },
  {
   "cell_type": "code",
   "execution_count": 9,
   "id": "10833614-c827-4af5-a285-c593931f5b7d",
   "metadata": {},
   "outputs": [
    {
     "name": "stdout",
     "output_type": "stream",
     "text": [
      "ERA5 stats:\n",
      "  min: 0\n",
      "  max: 0\n",
      "  mean: 0.0\n",
      "  std: 0.0\n",
      "------------------------------\n"
     ]
    }
   ],
   "source": [
    "import numpy as np\n",
    "def check_normalization(arr, name=\"array\"):\n",
    "    print(f\"{name} stats:\")\n",
    "    print(\"  min:\", np.nanmin(arr))\n",
    "    print(\"  max:\", np.nanmax(arr))\n",
    "    print(\"  mean:\", np.nanmean(arr))\n",
    "    print(\"  std:\", np.nanstd(arr))\n",
    "    print(\"-\"*30)\n",
    "\n",
    "# Example:\n",
    "check_normalization(era5_array, \"ERA5\")"
   ]
  },
  {
   "cell_type": "code",
   "execution_count": 6,
   "id": "000dc4e7-31ae-45c6-b92f-27dfa8dc8844",
   "metadata": {},
   "outputs": [],
   "source": [
    "import os "
   ]
  },
  {
   "cell_type": "code",
   "execution_count": 12,
   "id": "171bc608-cf92-4d40-8755-dcb9d88802e7",
   "metadata": {},
   "outputs": [],
   "source": [
    "ERA5_FILES = {\n",
    "    \"t2m\": r\"C:\\Users\\Ankit\\Datasets_Forest_fire\\ERA5_resampled_to_VIIRS\\ERA5_t2m_2015_2016_stack_toVIIRS.tif\",\n",
    "    \"d2m\": r\"C:\\Users\\Ankit\\Datasets_Forest_fire\\ERA5_resampled_to_VIIRS\\ERA5_d2m_2015_2016_stack_toVIIRS.tif\",\n",
    "    \"tp\":  r\"C:\\Users\\Ankit\\Datasets_Forest_fire\\ERA5_resampled_to_VIIRS\\ERA5_tp_2015_2016_stack_toVIIRS.tif\",\n",
    "    \"u10\": r\"C:\\Users\\Ankit\\Datasets_Forest_fire\\ERA5_resampled_to_VIIRS\\ERA5_u10_2015_2016_stack_toVIIRS.tif\",\n",
    "    \"v10\": r\"C:\\Users\\Ankit\\Datasets_Forest_fire\\ERA5_resampled_to_VIIRS\\ERA5_v10_2015_2016_stack_toVIIRS.tif\",\n",
    "}\n",
    "DEM_FILE = r\"C:\\Users\\Ankit\\Datasets_Forest_fire\\DEM_resampled_to_VIIRS1.tif\"\n"
   ]
  },
  {
   "cell_type": "code",
   "execution_count": 13,
   "id": "485bc390-92c0-41b2-b680-e732748ecbc5",
   "metadata": {},
   "outputs": [],
   "source": [
    "OUT_DIR = r\"C:\\Users\\Ankit\\Datasets_Forest_fire\\normalized_inputs\"\n",
    "os.makedirs(OUT_DIR, exist_ok=True)"
   ]
  },
  {
   "cell_type": "code",
   "execution_count": 1,
   "id": "1fea55f4-6238-4c5e-be25-34f3187c8165",
   "metadata": {},
   "outputs": [],
   "source": [
    "#profile gives the information or you can say it is the metadata about the raster (crs,h,w,transform)\n",
    "#even in the output file we'll have the same profile (**profile)"
   ]
  },
  {
   "cell_type": "code",
   "execution_count": 14,
   "id": "82d51a62-0ef3-4b26-8a24-d69341668f70",
   "metadata": {},
   "outputs": [],
   "source": [
    "def normalize_raster(in_file, out_file):\n",
    "    with rasterio.open(in_file) as src:\n",
    "        profile = src.profile\n",
    "        data = src.read().astype(np.float32)  # shape = (bands, height, width)\n",
    "\n",
    "        # Compute min and max across ALL bands\n",
    "        min_val = np.nanmin(data)\n",
    "        max_val = np.nanmax(data)\n",
    "\n",
    "        # Avoid divide by zero\n",
    "        if max_val - min_val > 1e-6:\n",
    "            data = (data - min_val) / (max_val - min_val)\n",
    "        else:\n",
    "            data[:] = 0.0\n",
    "\n",
    "        # Save normalized raster\n",
    "        with rasterio.open(out_file, 'w', **profile) as dst:\n",
    "            dst.write(data)\n",
    "\n",
    "    print(f\"✅ Normalized saved: {out_file}\")"
   ]
  },
  {
   "cell_type": "code",
   "execution_count": 15,
   "id": "7c19cb24-f1ba-417f-a64a-044554a424e8",
   "metadata": {},
   "outputs": [
    {
     "name": "stdout",
     "output_type": "stream",
     "text": [
      "✅ Normalized saved: C:\\Users\\Ankit\\Datasets_Forest_fire\\normalized_inputs\\ERA5_t2m_2015_2016_stack_toVIIRS_norm.tif\n",
      "✅ Normalized saved: C:\\Users\\Ankit\\Datasets_Forest_fire\\normalized_inputs\\ERA5_d2m_2015_2016_stack_toVIIRS_norm.tif\n",
      "✅ Normalized saved: C:\\Users\\Ankit\\Datasets_Forest_fire\\normalized_inputs\\ERA5_tp_2015_2016_stack_toVIIRS_norm.tif\n",
      "✅ Normalized saved: C:\\Users\\Ankit\\Datasets_Forest_fire\\normalized_inputs\\ERA5_u10_2015_2016_stack_toVIIRS_norm.tif\n",
      "✅ Normalized saved: C:\\Users\\Ankit\\Datasets_Forest_fire\\normalized_inputs\\ERA5_v10_2015_2016_stack_toVIIRS_norm.tif\n"
     ]
    }
   ],
   "source": [
    "for var, path in ERA5_FILES.items():\n",
    "    out_path = os.path.join(OUT_DIR, f\"{os.path.basename(path).replace('.tif', '_norm.tif')}\")\n",
    "    normalize_raster(path, out_path)"
   ]
  },
  {
   "cell_type": "code",
   "execution_count": 16,
   "id": "b5a3e871-c09e-4721-9e76-ccefd97514b4",
   "metadata": {},
   "outputs": [
    {
     "name": "stdout",
     "output_type": "stream",
     "text": [
      "✅ Normalized saved: C:\\Users\\Ankit\\Datasets_Forest_fire\\normalized_inputs\\DEM_norm.tif\n"
     ]
    }
   ],
   "source": [
    "dem_out = os.path.join(OUT_DIR, \"DEM_norm.tif\")\n",
    "normalize_raster(DEM_FILE, dem_out)"
   ]
  },
  {
   "cell_type": "code",
   "execution_count": null,
   "id": "231ae8a2-2e90-4a2a-a563-58887cefe861",
   "metadata": {},
   "outputs": [],
   "source": []
  },
  {
   "cell_type": "code",
   "execution_count": 25,
   "id": "d18e1ca3-9cb8-4535-97b2-b81535b6da42",
   "metadata": {},
   "outputs": [],
   "source": [
    "#this below does create the recipe "
   ]
  },
  {
   "cell_type": "code",
   "execution_count": 4,
   "id": "20b0101e-7b78-4bb6-abe9-f6ad07c45480",
   "metadata": {},
   "outputs": [],
   "source": [
    "# ---- Input files ----\n",
    "ERA5_FILES = {\n",
    "    \"t2m\": r\"C:\\Users\\Ankit\\Datasets_Forest_fire\\normalized_inputs\\ERA5_t2m_2015_2016_stack_toVIIRS_norm.tif\",\n",
    "    \"d2m\": r\"C:\\Users\\Ankit\\Datasets_Forest_fire\\normalized_inputs\\ERA5_d2m_2015_2016_stack_toVIIRS_norm.tif\",\n",
    "    \"tp\":  r\"C:\\Users\\Ankit\\Datasets_Forest_fire\\normalized_inputs\\ERA5_tp_2015_2016_stack_toVIIRS_norm.tif\",\n",
    "    \"u10\": r\"C:\\Users\\Ankit\\Datasets_Forest_fire\\normalized_inputs\\ERA5_u10_2015_2016_stack_toVIIRS_norm.tif\",\n",
    "    \"v10\": r\"C:\\Users\\Ankit\\Datasets_Forest_fire\\normalized_inputs\\ERA5_v10_2015_2016_stack_toVIIRS_norm.tif\",\n",
    "}\n",
    "VIIRS_FILE  = r\"C:\\Users\\Ankit\\Datasets_Forest_fire\\VIIRS_fire_time_stack1.tif\"\n",
    "DEM_FILE    = r\"C:\\Users\\Ankit\\Datasets_Forest_fire\\normalized_inputs\\DEM_norm.tif\"\n",
    "LULC_2015   = r\"C:\\Users\\Ankit\\Datasets_Forest_fire\\LULC_MAPS\\LULC_2015_resampled_to_VIIRS_onehot.tif\"\n",
    "LULC_2016   = r\"C:\\Users\\Ankit\\Datasets_Forest_fire\\LULC_MAPS\\LULC_2016_resampled_to_VIIRS_onehot.tif\""
   ]
  },
  {
   "cell_type": "code",
   "execution_count": 6,
   "id": "252c9cf6-0eac-4225-88e0-ae8adf7e4dcb",
   "metadata": {},
   "outputs": [],
   "source": [
    "# ---- Config ----\n",
    "START_TIME  = datetime(2015, 1, 1, 0)   \n",
    "SEQ_LEN     = 6                         \n",
    "HORIZONS    = [1, 2, 3]                 \n",
    "OUT_CSV     = r\"C:\\Users\\Ankit\\Datasets_Forest_fire\\sequence_index_hourly_binary.csv\""
   ]
  },
  {
   "cell_type": "code",
   "execution_count": 7,
   "id": "58ede66d-035b-4d9d-8e49-5f1194b8a729",
   "metadata": {},
   "outputs": [
    {
     "name": "stdout",
     "output_type": "stream",
     "text": [
      "ERA5 variables cover 17544 timesteps\n"
     ]
    }
   ],
   "source": [
    "with rasterio.open(ERA5_FILES[\"t2m\"]) as src:\n",
    "    n_bands = src.count\n",
    "    height, width = src.height, src.width\n",
    "\n",
    "print(f\"ERA5 variables cover {n_bands} timesteps\")\n",
    "\n",
    "\n",
    "rows = []\n",
    "for center_idx in range(SEQ_LEN, n_bands - max(HORIZONS)):\n",
    "    \n",
    "    center_time = START_TIME + timedelta(hours=center_idx)\n",
    "\n",
    "    seq_idxs = list(range(center_idx - SEQ_LEN + 1, center_idx + 1))\n",
    "\n",
    "    tgt_idxs = [center_idx + h for h in HORIZONS]\n",
    "\n",
    "    lulc_file = LULC_2015 if center_time.year == 2015 else LULC_2016\n",
    "\n",
    "    rows.append({\n",
    "        \"center_time\": center_time,\n",
    "        \"seq_band_idxs\": seq_idxs,\n",
    "        \"target_band_idxs\": tgt_idxs,\n",
    "        \"era5_t2m_file\": ERA5_FILES[\"t2m\"],\n",
    "        \"era5_d2m_file\": ERA5_FILES[\"d2m\"],\n",
    "        \"era5_tp_file\":  ERA5_FILES[\"tp\"],\n",
    "        \"era5_u10_file\": ERA5_FILES[\"u10\"],\n",
    "        \"era5_v10_file\": ERA5_FILES[\"v10\"],\n",
    "        \"viirs_file\": VIIRS_FILE,\n",
    "        \"dem_file\": DEM_FILE,\n",
    "        \"lulc_file\": lulc_file,\n",
    "    })"
   ]
  },
  {
   "cell_type": "code",
   "execution_count": 8,
   "id": "88e57a7a-d8e7-41b5-aa4a-460f525c4d55",
   "metadata": {},
   "outputs": [
    {
     "name": "stdout",
     "output_type": "stream",
     "text": [
      "Saved 17535 sequences to C:\\Users\\Ankit\\Datasets_Forest_fire\\sequence_index_hourly_binary.csv\n",
      "Time range: 2015-01-01 06:00:00 → 2016-12-31 20:00:00\n"
     ]
    }
   ],
   "source": [
    "df = pd.DataFrame(rows)\n",
    "df.to_csv(OUT_CSV, index=False)\n",
    "print(f\"Saved {len(df)} sequences to {OUT_CSV}\")\n",
    "print(f\"Time range: {df['center_time'].min()} → {df['center_time'].max()}\")"
   ]
  },
  {
   "cell_type": "code",
   "execution_count": null,
   "id": "001db569-fe36-4a0e-8283-b623aeb36835",
   "metadata": {},
   "outputs": [],
   "source": []
  }
 ],
 "metadata": {
  "kernelspec": {
   "display_name": "Python 3 (ipykernel)",
   "language": "python",
   "name": "python3"
  },
  "language_info": {
   "codemirror_mode": {
    "name": "ipython",
    "version": 3
   },
   "file_extension": ".py",
   "mimetype": "text/x-python",
   "name": "python",
   "nbconvert_exporter": "python",
   "pygments_lexer": "ipython3",
   "version": "3.13.7"
  }
 },
 "nbformat": 4,
 "nbformat_minor": 5
}
