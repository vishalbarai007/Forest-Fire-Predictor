{
 "cells": [
  {
   "cell_type": "code",
   "execution_count": 1,
   "id": "427f2031-0a5d-4dfd-b55e-c23ef981c016",
   "metadata": {},
   "outputs": [],
   "source": [
    "import pandas as pd \n",
    "df = pd.read_csv(r\"C:\\Users\\Ankit\\Datasets_Forest_fire\\filtered_viirs.csv\")"
   ]
  },
  {
   "cell_type": "code",
   "execution_count": 3,
   "id": "13c3b7d2-76b3-49b1-97bf-bdbae61b70fc",
   "metadata": {},
   "outputs": [
    {
     "data": {
      "text/plain": [
       "193.69"
      ]
     },
     "execution_count": 3,
     "metadata": {},
     "output_type": "execute_result"
    }
   ],
   "source": [
    "df['frp'].max()"
   ]
  },
  {
   "cell_type": "code",
   "execution_count": 5,
   "id": "b5e0b006-583b-4879-b7b4-249bea453f76",
   "metadata": {},
   "outputs": [
    {
     "data": {
      "text/plain": [
       "0.08"
      ]
     },
     "execution_count": 5,
     "metadata": {},
     "output_type": "execute_result"
    }
   ],
   "source": [
    "df['frp'].min()"
   ]
  },
  {
   "cell_type": "code",
   "execution_count": null,
   "id": "bc04f42e-cc9a-47fa-ac76-3c39ec8c2069",
   "metadata": {},
   "outputs": [],
   "source": []
  }
 ],
 "metadata": {
  "kernelspec": {
   "display_name": "Python 3 (ipykernel)",
   "language": "python",
   "name": "python3"
  },
  "language_info": {
   "codemirror_mode": {
    "name": "ipython",
    "version": 3
   },
   "file_extension": ".py",
   "mimetype": "text/x-python",
   "name": "python",
   "nbconvert_exporter": "python",
   "pygments_lexer": "ipython3",
   "version": "3.10.0"
  }
 },
 "nbformat": 4,
 "nbformat_minor": 5
}
