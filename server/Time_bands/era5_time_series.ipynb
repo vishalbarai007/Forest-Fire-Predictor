{
 "cells": [
  {
   "cell_type": "code",
   "execution_count": 1,
   "id": "d9be8758-8eb4-480a-8542-8e99554f0cbb",
   "metadata": {},
   "outputs": [
    {
     "name": "stdout",
     "output_type": "stream",
     "text": [
      "Processing t2m with dims ('valid_time', 'latitude', 'longitude')\n",
      "✅ Saved t2m to C:\\Users\\Ankit\\Datasets_Forest_fire\\ERA5_fast_tif_stacks\\ERA5_t2m_2015_2016_stack.tif (17544 time bands)\n",
      "Processing d2m with dims ('valid_time', 'latitude', 'longitude')\n",
      "✅ Saved d2m to C:\\Users\\Ankit\\Datasets_Forest_fire\\ERA5_fast_tif_stacks\\ERA5_d2m_2015_2016_stack.tif (17544 time bands)\n",
      "Processing u10 with dims ('valid_time', 'latitude', 'longitude')\n",
      "✅ Saved u10 to C:\\Users\\Ankit\\Datasets_Forest_fire\\ERA5_fast_tif_stacks\\ERA5_u10_2015_2016_stack.tif (17544 time bands)\n",
      "Processing v10 with dims ('valid_time', 'latitude', 'longitude')\n",
      "✅ Saved v10 to C:\\Users\\Ankit\\Datasets_Forest_fire\\ERA5_fast_tif_stacks\\ERA5_v10_2015_2016_stack.tif (17544 time bands)\n",
      "Processing tp with dims ('valid_time', 'latitude', 'longitude')\n",
      "✅ Saved tp to C:\\Users\\Ankit\\Datasets_Forest_fire\\ERA5_fast_tif_stacks\\ERA5_tp_2015_2016_stack.tif (17544 time bands)\n"
     ]
    }
   ],
   "source": [
    "import xarray as xr\n",
    "import rasterio\n",
    "from rasterio.transform import from_origin\n",
    "import numpy as np\n",
    "import os\n",
    "\n",
    "\n",
    "ERA5_NC = r\"C:\\Users\\Ankit\\Datasets_Forest_fire\\compressed_cleaned_era5_2015_2016.nc\"\n",
    "OUT_DIR = r\"C:\\Users\\Ankit\\Datasets_Forest_fire\\ERA5_fast_tif_stacks\"\n",
    "os.makedirs(OUT_DIR, exist_ok=True)\n",
    "\n",
    "\n",
    "ds = xr.open_dataset(ERA5_NC)\n",
    "\n",
    "time_dim = \"valid_time\"\n",
    "lat_dim = \"latitude\"\n",
    "lon_dim = \"longitude\"\n",
    "\n",
    "times = ds[time_dim].values\n",
    "lat = ds[lat_dim].values\n",
    "lon = ds[lon_dim].values\n",
    "\n",
    "\n",
    "if lat[0] > lat[-1]:\n",
    "    ds = ds.reindex({lat_dim: list(reversed(lat))})\n",
    "    lat = ds[lat_dim].values\n",
    "\n",
    "\n",
    "res_lon = abs(lon[1] - lon[0])\n",
    "res_lat = abs(lat[1] - lat[0])\n",
    "transform = from_origin(lon.min(), lat.max(), res_lon, res_lat)\n",
    "\n",
    "for var in ds.data_vars:\n",
    "    da = ds[var]  # DataArray\n",
    "    print(f\"Processing {var} with dims {da.dims}\")\n",
    "\n",
    "    \n",
    "    arr = da.values.astype(\"float32\")\n",
    "\n",
    "    n_bands = arr.shape[0]\n",
    "    profile = {\n",
    "        \"driver\": \"GTiff\",\n",
    "        \"height\": arr.shape[1],\n",
    "        \"width\": arr.shape[2],\n",
    "        \"count\": n_bands,\n",
    "        \"dtype\": \"float32\",\n",
    "        \"crs\": \"EPSG:4326\",\n",
    "        \"transform\": transform,\n",
    "        \"tiled\": True,            \n",
    "        \"compress\": \"deflate\"    \n",
    "    }\n",
    "\n",
    "    out_tif = os.path.join(OUT_DIR, f\"ERA5_{var}_2015_2016_stack.tif\")\n",
    "\n",
    "    with rasterio.open(out_tif, \"w\", **profile) as dst:\n",
    "        dst.write(arr)  \n",
    "\n",
    "    print(f\"✅ Saved {var} to {out_tif} ({n_bands} time bands)\")\n"
   ]
  },
  {
   "cell_type": "code",
   "execution_count": 3,
   "id": "aca6c265-8a33-46f3-b70a-746368fd753b",
   "metadata": {},
   "outputs": [
    {
     "name": "stdout",
     "output_type": "stream",
     "text": [
      "Dims: ('valid_time', 'latitude', 'longitude')\n",
      "Coords: ['number', 'valid_time', 'latitude', 'longitude', 'expver']\n"
     ]
    }
   ],
   "source": [
    "print(\"Dims:\", da.dims)\n",
    "print(\"Coords:\", list(da.coords))\n"
   ]
  },
  {
   "cell_type": "code",
   "execution_count": 2,
   "id": "be1bbd1c-303c-4565-8a03-064aa0dfba20",
   "metadata": {},
   "outputs": [
    {
     "name": "stdout",
     "output_type": "stream",
     "text": [
      "\n",
      "📂 File: C:\\Users\\Ankit\\Datasets_Forest_fire\\ERA5_fast_tif_stacks\\ERA5_t2m_2015_2016_stack.tif\n",
      "   Bands: 17544\n",
      "   Shape: 13 x 17\n",
      "   NoData metadata: None\n",
      "   Band 1: missing pixels = 0\n",
      "   Band 8772: missing pixels = 0\n",
      "   Band 17544: missing pixels = 0\n",
      "\n",
      "📂 File: C:\\Users\\Ankit\\Datasets_Forest_fire\\ERA5_fast_tif_stacks\\ERA5_d2m_2015_2016_stack.tif\n",
      "   Bands: 17544\n",
      "   Shape: 13 x 17\n",
      "   NoData metadata: None\n",
      "   Band 1: missing pixels = 0\n",
      "   Band 8772: missing pixels = 0\n",
      "   Band 17544: missing pixels = 0\n",
      "\n",
      "📂 File: C:\\Users\\Ankit\\Datasets_Forest_fire\\ERA5_fast_tif_stacks\\ERA5_u10_2015_2016_stack.tif\n",
      "   Bands: 17544\n",
      "   Shape: 13 x 17\n",
      "   NoData metadata: None\n",
      "   Band 1: missing pixels = 0\n",
      "   Band 8772: missing pixels = 0\n",
      "   Band 17544: missing pixels = 0\n",
      "\n",
      "📂 File: C:\\Users\\Ankit\\Datasets_Forest_fire\\ERA5_fast_tif_stacks\\ERA5_v10_2015_2016_stack.tif\n",
      "   Bands: 17544\n",
      "   Shape: 13 x 17\n",
      "   NoData metadata: None\n",
      "   Band 1: missing pixels = 0\n",
      "   Band 8772: missing pixels = 0\n",
      "   Band 17544: missing pixels = 0\n",
      "\n",
      "📂 File: C:\\Users\\Ankit\\Datasets_Forest_fire\\ERA5_fast_tif_stacks\\ERA5_tp_2015_2016_stack.tif\n",
      "   Bands: 17544\n",
      "   Shape: 13 x 17\n",
      "   NoData metadata: None\n",
      "   Band 1: missing pixels = 0\n",
      "   Band 8772: missing pixels = 0\n",
      "   Band 17544: missing pixels = 0\n"
     ]
    }
   ],
   "source": [
    "import rasterio\n",
    "import numpy as np\n",
    "\n",
    "# List of ERA5 stacked files\n",
    "era5_files = [\n",
    "    r\"C:\\Users\\Ankit\\Datasets_Forest_fire\\ERA5_fast_tif_stacks\\ERA5_t2m_2015_2016_stack.tif\",\n",
    "    r\"C:\\Users\\Ankit\\Datasets_Forest_fire\\ERA5_fast_tif_stacks\\ERA5_d2m_2015_2016_stack.tif\",\n",
    "    r\"C:\\Users\\Ankit\\Datasets_Forest_fire\\ERA5_fast_tif_stacks\\ERA5_u10_2015_2016_stack.tif\",\n",
    "    r\"C:\\Users\\Ankit\\Datasets_Forest_fire\\ERA5_fast_tif_stacks\\ERA5_v10_2015_2016_stack.tif\",\n",
    "    r\"C:\\Users\\Ankit\\Datasets_Forest_fire\\ERA5_fast_tif_stacks\\ERA5_tp_2015_2016_stack.tif\",\n",
    "]\n",
    "\n",
    "for f in era5_files:\n",
    "    with rasterio.open(f) as src:\n",
    "        print(f\"\\n📂 File: {f}\")\n",
    "        print(f\"   Bands: {src.count}\")\n",
    "        print(f\"   Shape: {src.height} x {src.width}\")\n",
    "\n",
    "        # Check for nodata value\n",
    "        nodata = src.nodata\n",
    "        print(f\"   NoData metadata: {nodata}\")\n",
    "\n",
    "        # Read a sample band (1st, middle, last)\n",
    "        for b in [1, src.count//2, src.count]:\n",
    "            arr = src.read(b, masked=True)\n",
    "            missing = np.sum(arr.mask) if hasattr(arr, \"mask\") else np.isnan(arr).sum()\n",
    "            print(f\"   Band {b}: missing pixels = {missing}\")\n"
   ]
  },
  {
   "cell_type": "code",
   "execution_count": 1,
   "id": "3db8b948-115f-46d8-88ce-082e5e5d0bb9",
   "metadata": {},
   "outputs": [
    {
     "name": "stdout",
     "output_type": "stream",
     "text": [
      "ERA5 bands: 5\n",
      "VIIRS bands: 1\n"
     ]
    }
   ],
   "source": [
    "import rasterio\n",
    "\n",
    "ERA5_FILE = r\"C:\\Users\\Ankit\\Datasets_Forest_fire\\ERA5_30m_stack_filled_final.tif\"\n",
    "VIIRS_FILE = r\"C:\\Users\\Ankit\\Datasets_Forest_fire\\VIIRS_fire_label_2015_2016_30m_filled.tif\"\n",
    "\n",
    "with rasterio.open(ERA5_FILE) as src:\n",
    "    print(\"ERA5 bands:\", src.count)\n",
    "\n",
    "with rasterio.open(VIIRS_FILE) as src:\n",
    "    print(\"VIIRS bands:\", src.count)\n"
   ]
  },
  {
   "cell_type": "code",
   "execution_count": 1,
   "id": "ca7f368d-eab5-4544-b5fd-de8398bf177f",
   "metadata": {},
   "outputs": [
    {
     "name": "stdout",
     "output_type": "stream",
     "text": [
      "ERA5_d2m_resampled_30m.tif → 1 bands, shape: (11904, 13604)\n",
      "ERA5_t2m_resampled_30m.tif → 1 bands, shape: (11904, 13604)\n",
      "ERA5_tp_resampled_30m.tif → 1 bands, shape: (11904, 13604)\n",
      "ERA5_u10_resampled_30m.tif → 1 bands, shape: (11904, 13604)\n",
      "ERA5_v10_resampled_30m.tif → 1 bands, shape: (11904, 13604)\n"
     ]
    }
   ],
   "source": [
    "import rasterio\n",
    "import glob\n",
    "import os\n",
    "\n",
    "# Path to your ERA5 folder\n",
    "era5_dir = r\"C:\\Users\\Ankit\\Datasets_Forest_fire\\ERA5_stacks_30m\"\n",
    "# Loop through all ERA5 tif files\n",
    "for tif_file in glob.glob(os.path.join(era5_dir, \"*.tif\")):\n",
    "    with rasterio.open(tif_file) as src:\n",
    "        print(f\"{os.path.basename(tif_file)} → {src.count} bands, shape: ({src.height}, {src.width})\")\n"
   ]
  },
  {
   "cell_type": "code",
   "execution_count": null,
   "id": "bc06fb5d-f651-4dc3-9056-f394cf27715d",
   "metadata": {},
   "outputs": [],
   "source": []
  }
 ],
 "metadata": {
  "kernelspec": {
   "display_name": "Python 3 (ipykernel)",
   "language": "python",
   "name": "python3"
  },
  "language_info": {
   "codemirror_mode": {
    "name": "ipython",
    "version": 3
   },
   "file_extension": ".py",
   "mimetype": "text/x-python",
   "name": "python",
   "nbconvert_exporter": "python",
   "pygments_lexer": "ipython3",
   "version": "3.10.0"
  }
 },
 "nbformat": 4,
 "nbformat_minor": 5
}
