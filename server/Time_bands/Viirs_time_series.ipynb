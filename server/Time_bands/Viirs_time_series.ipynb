{
 "cells": [
  {
   "cell_type": "code",
   "execution_count": 1,
   "id": "cd3e9c6e-578f-4451-8e3b-41edb69b507d",
   "metadata": {},
   "outputs": [],
   "source": [
    "import rasterio\n",
    "import numpy as np"
   ]
  },
  {
   "cell_type": "code",
   "execution_count": 2,
   "id": "d3879687-6224-4259-96e8-18887ed185d8",
   "metadata": {},
   "outputs": [],
   "source": [
    "VIIRS_INPUT = r\"C:\\Users\\Ankit\\Datasets_Forest_fire\\updated_viirs_binary_fire_2015_2016.nc\"\n",
    "OUT_FILE = r\"C:\\Users\\Ankit\\Datasets_Forest_fire\\VIIRS_fire_time_stack.tif\""
   ]
  },
  {
   "cell_type": "code",
   "execution_count": 3,
   "id": "0b2ba05a-9501-42ff-89a3-dfe06b8dd956",
   "metadata": {},
   "outputs": [],
   "source": [
    "n_bands = 17544   # hourly for 2015–2016\n",
    "with rasterio.open(VIIRS_INPUT) as src:\n",
    "    height, width = src.height, src.width\n",
    "    src_data = src.read(1)  \n",
    "    profile = src.profile\n",
    "    profile.update(\n",
    "        count=n_bands,\n",
    "        dtype=\"uint8\",\n",
    "        driver=\"GTiff\"\n",
    "    )\n",
    "\n",
    "    with rasterio.open(OUT_FILE, \"w\", **profile) as dst:\n",
    "        for i in range(n_bands):\n",
    "           \n",
    "            dst.write(src_data.astype(\"uint8\"), i + 1)"
   ]
  },
  {
   "cell_type": "code",
   "execution_count": 4,
   "id": "18d0412b-db31-4056-809b-3e40114a0ff4",
   "metadata": {},
   "outputs": [
    {
     "name": "stdout",
     "output_type": "stream",
     "text": [
      "✅ Created VIIRS time stack with 17544 bands → C:\\Users\\Ankit\\Datasets_Forest_fire\\VIIRS_fire_time_stack.tif\n"
     ]
    }
   ],
   "source": [
    "print(f\"✅ Created VIIRS time stack with {n_bands} bands → {OUT_FILE}\")"
   ]
  },
  {
   "cell_type": "code",
   "execution_count": 1,
   "id": "ff6f3e1b-2f6d-4581-ae13-56b28d190aca",
   "metadata": {},
   "outputs": [],
   "source": [
    "import xarray as xr"
   ]
  },
  {
   "cell_type": "code",
   "execution_count": 2,
   "id": "298cb7b0-448d-4ad3-8d0a-fa2a4e409648",
   "metadata": {},
   "outputs": [],
   "source": [
    "ds = xr.open_dataset(r\"C:\\Users\\Ankit\\Datasets_Forest_fire\\updated_viirs_binary_fire_2015_2016.nc\")"
   ]
  },
  {
   "cell_type": "code",
   "execution_count": 3,
   "id": "652cab78-8757-4c97-8ecd-0c30345e26d0",
   "metadata": {},
   "outputs": [
    {
     "data": {
      "text/plain": [
       "Data variables:\n",
       "    fire_label  (time, latitude, longitude) uint8 4MB ..."
      ]
     },
     "execution_count": 3,
     "metadata": {},
     "output_type": "execute_result"
    }
   ],
   "source": [
    "ds.data_vars"
   ]
  },
  {
   "cell_type": "code",
   "execution_count": 5,
   "id": "1c3b7ea2-9edd-4651-abcc-7d7f2f368e24",
   "metadata": {},
   "outputs": [
    {
     "data": {
      "text/plain": [
       "array([0, 1], dtype=uint8)"
      ]
     },
     "execution_count": 5,
     "metadata": {},
     "output_type": "execute_result"
    }
   ],
   "source": [
    "import numpy as np\n",
    "np.unique(ds['fire_label'])"
   ]
  },
  {
   "cell_type": "code",
   "execution_count": 6,
   "id": "94989f3b-46a2-435c-95e1-03f40a802069",
   "metadata": {},
   "outputs": [
    {
     "name": "stdout",
     "output_type": "stream",
     "text": [
      "fire_label shape: (17544, 13, 17) → (time, lat, lon)\n",
      "Bands (time steps): 17544, Height: 13, Width: 17\n",
      "✅ Created VIIRS time stack with 17544 bands → C:\\Users\\Ankit\\Datasets_Forest_fire\\VIIRS_fire_time_stack1.tif\n"
     ]
    }
   ],
   "source": [
    "import xarray as xr\n",
    "import rasterio\n",
    "from rasterio.transform import from_origin\n",
    "\n",
    "# Input NetCDF and output GeoTIFF\n",
    "VIIRS_INPUT = r\"C:\\Users\\Ankit\\Datasets_Forest_fire\\updated_viirs_binary_fire_2015_2016.nc\"\n",
    "OUT_FILE = r\"C:\\Users\\Ankit\\Datasets_Forest_fire\\VIIRS_fire_time_stack1.tif\"\n",
    "\n",
    "# Open NetCDF with xarray\n",
    "ds = xr.open_dataset(VIIRS_INPUT)\n",
    "fire_label = ds[\"fire_label\"]  # (time, lat, lon)\n",
    "\n",
    "# Dimensions\n",
    "n_bands = fire_label.sizes[\"time\"]\n",
    "height = fire_label.sizes[\"latitude\"]\n",
    "width = fire_label.sizes[\"longitude\"]\n",
    "\n",
    "print(f\"fire_label shape: {fire_label.shape} → (time, lat, lon)\")\n",
    "print(f\"Bands (time steps): {n_bands}, Height: {height}, Width: {width}\")\n",
    "\n",
    "# Build rasterio profile\n",
    "# Assuming lat/lon are regular grids\n",
    "lat = fire_label.latitude.values\n",
    "lon = fire_label.longitude.values\n",
    "res_lat = abs(lat[1] - lat[0])\n",
    "res_lon = abs(lon[1] - lon[0])\n",
    "\n",
    "transform = from_origin(lon.min(), lat.max(), res_lon, res_lat)\n",
    "\n",
    "profile = {\n",
    "    \"driver\": \"GTiff\",\n",
    "    \"height\": height,\n",
    "    \"width\": width,\n",
    "    \"count\": n_bands,\n",
    "    \"dtype\": \"uint8\",\n",
    "    \"crs\": \"EPSG:4326\",  # NetCDF lat/lon is usually WGS84\n",
    "    \"transform\": transform\n",
    "}\n",
    "\n",
    "# Write GeoTIFF\n",
    "with rasterio.open(OUT_FILE, \"w\", **profile) as dst:\n",
    "    for i in range(n_bands):\n",
    "        arr = fire_label.isel(time=i).values.astype(\"uint8\")\n",
    "        dst.write(arr, i + 1)\n",
    "\n",
    "    # Add metadata for variable\n",
    "    dst.update_tags(variable=\"fire_label\", description=\"Binary fire mask (0/1)\")\n",
    "\n",
    "print(f\"✅ Created VIIRS time stack with {n_bands} bands → {OUT_FILE}\")\n"
   ]
  },
  {
   "cell_type": "code",
   "execution_count": 2,
   "id": "e20d1556-7447-4127-b8d1-81259225e963",
   "metadata": {},
   "outputs": [
    {
     "name": "stderr",
     "output_type": "stream",
     "text": [
      "C:\\Users\\Ankit\\AppData\\Local\\Temp\\ipykernel_16060\\1491515261.py:15: FutureWarning: 'H' is deprecated and will be removed in a future version, please use 'h' instead.\n",
      "  time_groups = df.groupby(pd.Grouper(key='acq_datetime', freq='H'))\n"
     ]
    },
    {
     "name": "stdout",
     "output_type": "stream",
     "text": [
      "✅ Created VIIRS time stack with 17521 bands → C:\\Users\\Ankit\\Datasets_Forest_fire\\VIIRS_fire_time_stack_frp.tif\n"
     ]
    }
   ],
   "source": [
    "import pandas as pd\n",
    "import numpy as np\n",
    "import rasterio\n",
    "from rasterio.transform import from_bounds\n",
    "from datetime import datetime\n",
    "\n",
    "def create_multi_band_frp_raster(csv_path, output_tif_path, width=17, height=13):\n",
    "    df = pd.read_csv(csv_path)\n",
    "    \n",
    "    # Combine date and time for a single datetime object\n",
    "    df['acq_datetime'] = pd.to_datetime(df['acq_date'] + ' ' + df['acq_time'].astype(str).str.zfill(4), format='%d-%m-%Y %H%M')\n",
    "    \n",
    "    # Sort the data by datetime and group by unique hour\n",
    "    df = df.sort_values('acq_datetime')\n",
    "    time_groups = df.groupby(pd.Grouper(key='acq_datetime', freq='H'))\n",
    "    \n",
    "    # Determine geographic bounds (assuming your data is contained within this area)\n",
    "    minx, miny, maxx, maxy = (\n",
    "        df['longitude'].min(),\n",
    "        df['latitude'].min(),\n",
    "        df['longitude'].max(),\n",
    "        df['latitude'].max()\n",
    "    )\n",
    "    \n",
    "    # Calculate the transform for the fixed grid dimensions\n",
    "    transform = from_bounds(minx, miny, maxx, maxy, width=width, height=height)\n",
    "\n",
    "    # List to hold the NumPy arrays for each time step (band)\n",
    "    raster_bands = []\n",
    "    \n",
    "    # Process each unique time step\n",
    "    for time_stamp, group in time_groups:\n",
    "        # Create an empty raster grid for this hour\n",
    "        nodata_value = -9999\n",
    "        hour_raster = np.full((height, width), nodata_value, dtype=np.float32)\n",
    "\n",
    "        # Iterate through the fire points in this hour's group\n",
    "        for _, row in group.iterrows():\n",
    "            lon = row['longitude']\n",
    "            lat = row['latitude']\n",
    "            frp = row['frp']\n",
    "            \n",
    "            # Convert lat/lon to pixel coordinates\n",
    "            row_idx, col_idx = rasterio.transform.rowcol(transform, lon, lat)\n",
    "            \n",
    "            # Place the FRP value at the correct pixel\n",
    "            if 0 <= row_idx < height and 0 <= col_idx < width:\n",
    "                hour_raster[row_idx, col_idx] = frp\n",
    "        \n",
    "        raster_bands.append(hour_raster)\n",
    "\n",
    "    # Stack all the hourly rasters into a single 3D array\n",
    "    if not raster_bands:\n",
    "        print(\"No fire data found in the CSV to create raster bands.\")\n",
    "        return\n",
    "        \n",
    "    stacked_raster = np.stack(raster_bands)\n",
    "    \n",
    "    # Define the raster's profile for writing\n",
    "    profile = {\n",
    "        'driver': 'GTiff',\n",
    "        'height': height,\n",
    "        'width': width,\n",
    "        'count': len(raster_bands),  # Number of bands equals the number of hours\n",
    "        'dtype': np.float32,\n",
    "        'crs': 'EPSG:4326',  # WGS 84\n",
    "        'transform': transform,\n",
    "        'nodata': nodata_value\n",
    "    }\n",
    "    \n",
    "    # Write the 3D array to a multi-band GeoTIFF file\n",
    "    with rasterio.open(output_tif_path, 'w', **profile) as dst:\n",
    "        for i, band in enumerate(stacked_raster, 1):\n",
    "            dst.write(band, i)\n",
    "    \n",
    "    print(f\"✅ Created VIIRS time stack with {len(raster_bands)} bands → {output_tif_path}\")\n",
    "\n",
    "# Run the function\n",
    "csv_file = r\"C:\\Users\\Ankit\\Datasets_Forest_fire\\filtered_viirs.csv\"\n",
    "output_file = r\"C:\\Users\\Ankit\\Datasets_Forest_fire\\VIIRS_fire_time_stack_frp.tif\"\n",
    "create_multi_band_frp_raster(csv_file, output_file)"
   ]
  },
  {
   "cell_type": "code",
   "execution_count": null,
   "id": "cadc8fc3-c80b-4c74-9ea8-e2248d78ae4f",
   "metadata": {},
   "outputs": [],
   "source": []
  }
 ],
 "metadata": {
  "kernelspec": {
   "display_name": "Python 3 (ipykernel)",
   "language": "python",
   "name": "python3"
  },
  "language_info": {
   "codemirror_mode": {
    "name": "ipython",
    "version": 3
   },
   "file_extension": ".py",
   "mimetype": "text/x-python",
   "name": "python",
   "nbconvert_exporter": "python",
   "pygments_lexer": "ipython3",
   "version": "3.10.0"
  }
 },
 "nbformat": 4,
 "nbformat_minor": 5
}
