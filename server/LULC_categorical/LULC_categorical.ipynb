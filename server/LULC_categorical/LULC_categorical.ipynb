{
 "cells": [
  {
   "cell_type": "code",
   "execution_count": 9,
   "id": "65f25533-4942-4dc8-a3a8-f08c9bfff25a",
   "metadata": {},
   "outputs": [
    {
     "name": "stdout",
     "output_type": "stream",
     "text": [
      "Unique LULC codes in your raster: [ 1  2 11 12 15 16 21 22 31 32]\n"
     ]
    }
   ],
   "source": [
    "import rasterio\n",
    "import numpy as np\n",
    "\n",
    "lulc_path = r\"C:\\Users\\Ankit\\Datasets_Forest_fire\\LULC_2016_resampled_to_VIIRS.tif\"\n",
    "\n",
    "with rasterio.open(lulc_path) as src:\n",
    "    data = src.read(1)\n",
    "    unique_vals = np.unique(data[data > 0])  # skip nodata (0 if present)\n",
    "\n",
    "print(\"Unique LULC codes in your raster:\", unique_vals)"
   ]
  },
  {
   "cell_type": "code",
   "execution_count": 10,
   "id": "3c9f101f-3404-4c47-9e2f-d6af304ae2bb",
   "metadata": {},
   "outputs": [
    {
     "name": "stdout",
     "output_type": "stream",
     "text": [
      "Bands: 1\n",
      "Shape: (1, 13, 17)\n",
      "Unique values per band: [array([ 0,  1,  2, 11, 12, 15, 16, 21, 22, 31, 32], dtype=uint8)] ...\n"
     ]
    }
   ],
   "source": [
    "import rasterio\n",
    "import numpy as np\n",
    "\n",
    "lulc_file = r\"C:\\Users\\Ankit\\Datasets_Forest_fire\\LULC_2016_resampled_to_VIIRS.tif\"\n",
    "\n",
    "with rasterio.open(lulc_file) as src:\n",
    "    bands = src.count\n",
    "    data = src.read()\n",
    "\n",
    "print(\"Bands:\", bands)\n",
    "print(\"Shape:\", data.shape)  # (bands, H, W)\n",
    "\n",
    "# If it's one-hot encoded, each band should contain only {0,1}\n",
    "unique_per_band = [np.unique(data[i]) for i in range(bands)]\n",
    "print(\"Unique values per band:\", unique_per_band[:5], \"...\")\n"
   ]
  },
  {
   "cell_type": "code",
   "execution_count": 11,
   "id": "7fa0ff15-b2db-4c12-b41b-ea53b3127b03",
   "metadata": {},
   "outputs": [],
   "source": [
    "import rasterio\n",
    "import numpy as np"
   ]
  },
  {
   "cell_type": "code",
   "execution_count": 12,
   "id": "59a187f8-a6a1-4f01-a7c6-16229d498bc0",
   "metadata": {},
   "outputs": [],
   "source": [
    "in_file = r\"C:\\Users\\Ankit\\Datasets_Forest_fire\\LULC_2016_resampled_to_VIIRS.tif\"\n",
    "out_file = in_file.replace(\".tif\", \"_onehot.tif\")"
   ]
  },
  {
   "cell_type": "code",
   "execution_count": 13,
   "id": "709ce4b0-3dee-4423-9394-706bc547976c",
   "metadata": {},
   "outputs": [
    {
     "name": "stdout",
     "output_type": "stream",
     "text": [
      "Classes found: [ 1  2 11 12 15 16 21 22 31 32]\n",
      "✅ One-hot encoded LULC saved: C:\\Users\\Ankit\\Datasets_Forest_fire\\LULC_2016_resampled_to_VIIRS_onehot.tif\n"
     ]
    }
   ],
   "source": [
    "with rasterio.open(in_file) as src:\n",
    "    profile = src.profile\n",
    "    data = src.read(1).astype(\"int16\")  \n",
    "    classes = np.unique(data)\n",
    "    classes = classes[classes != 0] \n",
    "\n",
    "    print(\"Classes found:\", classes)\n",
    "\n",
    "    onehot = np.zeros((len(classes), data.shape[0], data.shape[1]), dtype=\"uint8\")\n",
    "    for i, c in enumerate(classes):\n",
    "        onehot[i] = (data == c).astype(\"uint8\")\n",
    "\n",
    "    profile.update(\n",
    "        count=len(classes),\n",
    "        dtype=\"uint8\",\n",
    "        compress=\"lzw\"\n",
    "    )\n",
    "\n",
    "    with rasterio.open(out_file, \"w\", **profile) as dst:\n",
    "        dst.write(onehot)\n",
    "\n",
    "print(f\"✅ One-hot encoded LULC saved: {out_file}\")"
   ]
  },
  {
   "cell_type": "code",
   "execution_count": 15,
   "id": "c6edf3fe-301f-4d16-87ac-d74262b4696d",
   "metadata": {},
   "outputs": [
    {
     "name": "stdout",
     "output_type": "stream",
     "text": [
      "Bands: 10\n",
      "Shape: (13, 17)\n",
      "Band 1: unique values -> [0 1]\n",
      "Band 2: unique values -> [0 1]\n",
      "Band 3: unique values -> [0 1]\n",
      "Band 4: unique values -> [0 1]\n",
      "Band 5: unique values -> [0 1]\n",
      "Band 6: unique values -> [0 1]\n",
      "Band 7: unique values -> [0 1]\n",
      "Band 8: unique values -> [0 1]\n",
      "Band 9: unique values -> [0 1]\n",
      "Band 10: unique values -> [0 1]\n"
     ]
    }
   ],
   "source": [
    "import rasterio\n",
    "import numpy as np\n",
    "\n",
    "lulc_path = r\"C:\\Users\\Ankit\\Datasets_Forest_fire\\LULC_2016_resampled_to_VIIRS_onehot.tif\"\n",
    "\n",
    "with rasterio.open(lulc_path) as src:\n",
    "    print(\"Bands:\", src.count)\n",
    "    print(\"Shape:\", src.read(1).shape)\n",
    "    \n",
    "    for b in range(1, src.count + 1):\n",
    "        band = src.read(b)\n",
    "        unique_vals = np.unique(band)\n",
    "        print(f\"Band {b}: unique values -> {unique_vals}\")\n"
   ]
  },
  {
   "cell_type": "code",
   "execution_count": null,
   "id": "19188577-7e52-49ed-ad66-daafa2ba8388",
   "metadata": {},
   "outputs": [],
   "source": []
  }
 ],
 "metadata": {
  "kernelspec": {
   "display_name": "Python 3 (ipykernel)",
   "language": "python",
   "name": "python3"
  },
  "language_info": {
   "codemirror_mode": {
    "name": "ipython",
    "version": 3
   },
   "file_extension": ".py",
   "mimetype": "text/x-python",
   "name": "python",
   "nbconvert_exporter": "python",
   "pygments_lexer": "ipython3",
   "version": "3.13.7"
  }
 },
 "nbformat": 4,
 "nbformat_minor": 5
}
