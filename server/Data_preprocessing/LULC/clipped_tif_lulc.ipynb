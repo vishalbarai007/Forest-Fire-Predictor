{
 "cells": [
  {
   "cell_type": "code",
   "execution_count": 7,
   "id": "9425bff2-60dd-4461-bb7a-bae1c7c63d7e",
   "metadata": {},
   "outputs": [],
   "source": [
    "from rasterio.windows import from_bounds\n",
    "import rasterio\n",
    "\n",
    "# Define your bounding box: min_lon, min_lat, max_lon, max_lat\n",
    "min_lon, min_lat = 77.0, 28.5    # bottom-left corner\n",
    "max_lon, max_lat = 81.0, 31.5    # top-right corner\n",
    "\n",
    "# Input and output file paths\n",
    "input_file = r\"C:\\Users\\Ankit\\Downloads\\lc_mcd12q1v061.p1_c_500m_s_20160101_20161231_go_epsg.4326_v20230818.tif\"\n",
    "output_file = r\"C:\\Users\\Ankit\\Downloads\\LULC_2016_clipped.tif\"\n",
    "\n",
    "# Open and clip the raster\n",
    "with rasterio.open(input_file) as src:\n",
    "    window = from_bounds(min_lon, min_lat, max_lon, max_lat, src.transform)\n",
    "    cropped_data = src.read(1, window=window)\n",
    "    transform = src.window_transform(window)\n",
    "\n",
    "    profile = src.profile\n",
    "    profile.update({\n",
    "        \"height\": cropped_data.shape[0],\n",
    "        \"width\": cropped_data.shape[1],\n",
    "        \"transform\": transform\n",
    "    })\n",
    "\n",
    "    with rasterio.open(output_file, \"w\", **profile) as dest:\n",
    "        dest.write(cropped_data, 1)  # Note: specify the band (1)"
   ]
  },
  {
   "cell_type": "code",
   "execution_count": 6,
   "id": "16594a72-6639-4e03-8e41-f445053dd348",
   "metadata": {},
   "outputs": [],
   "source": [
    "from rasterio.windows import from_bounds\n",
    "import rasterio\n",
    "\n",
    "# Define your bounding box: min_lon, min_lat, max_lon, max_lat\n",
    "min_lon, min_lat = 77.0, 28.5    # bottom-left corner\n",
    "max_lon, max_lat = 81.0, 31.5    # top-right corner\n",
    "\n",
    "# Input and output file paths\n",
    "input_file = r\"C:\\Users\\Ankit\\Downloads\\lc_mcd12q1v061.p1_c_500m_s_20150101_20151231_go_epsg.4326_v20230818.tif\"\n",
    "output_file = r\"C:\\Users\\Ankit\\Downloads\\LULC_2015_clipped.tif\"\n",
    "\n",
    "# Open and clip the raster\n",
    "with rasterio.open(input_file) as src:\n",
    "    window = from_bounds(min_lon, min_lat, max_lon, max_lat, src.transform)\n",
    "    cropped_data = src.read(1, window=window)\n",
    "    transform = src.window_transform(window)\n",
    "\n",
    "    profile = src.profile\n",
    "    profile.update({\n",
    "        \"height\": cropped_data.shape[0],\n",
    "        \"width\": cropped_data.shape[1],\n",
    "        \"transform\": transform\n",
    "    })\n",
    "\n",
    "    with rasterio.open(output_file, \"w\", **profile) as dest:\n",
    "        dest.write(cropped_data, 1)  # Note: specify the band (1)"
   ]
  },
  {
   "cell_type": "code",
   "execution_count": null,
   "id": "2f20a9cb-c304-48c7-923a-a90b15bcbc92",
   "metadata": {},
   "outputs": [],
   "source": []
  }
 ],
 "metadata": {
  "kernelspec": {
   "display_name": "Python 3 (ipykernel)",
   "language": "python",
   "name": "python3"
  },
  "language_info": {
   "codemirror_mode": {
    "name": "ipython",
    "version": 3
   },
   "file_extension": ".py",
   "mimetype": "text/x-python",
   "name": "python",
   "nbconvert_exporter": "python",
   "pygments_lexer": "ipython3",
   "version": "3.10.0"
  }
 },
 "nbformat": 4,
 "nbformat_minor": 5
}
