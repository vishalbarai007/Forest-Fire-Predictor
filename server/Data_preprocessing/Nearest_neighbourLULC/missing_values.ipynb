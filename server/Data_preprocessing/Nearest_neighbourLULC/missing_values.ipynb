{
 "cells": [
  {
   "cell_type": "code",
   "execution_count": 1,
   "id": "cc50765f-1cd8-461c-b2b5-2c9f2a5b1f13",
   "metadata": {},
   "outputs": [
    {
     "name": "stdout",
     "output_type": "stream",
     "text": [
      "✅ Filled NoData values in C:\\Users\\Ankit\\Datasets_Forest_fire\\lulc_maps_tif\\LULC_2015_clipped_30m_aligned.tif\n",
      "➡️  Saved to C:\\Users\\Ankit\\Datasets_Forest_fire\\lulc_maps_tif\\LULC_2015_clipped_30m_filled.tif\n"
     ]
    }
   ],
   "source": [
    "import rasterio\n",
    "import numpy as np\n",
    "from scipy import ndimage\n",
    "\n",
    "def fill_lulc_nodata(input_tif, output_tif, nodata_val=255):\n",
    "    # Open LULC raster\n",
    "    with rasterio.open(input_tif) as src:\n",
    "        data = src.read(1)  # read first band\n",
    "        profile = src.profile\n",
    "\n",
    "    # Create mask of nodata\n",
    "    mask = (data == nodata_val)\n",
    "\n",
    "    if np.sum(mask) == 0:\n",
    "        print(\"No NoData values found. Nothing to fill.\")\n",
    "        return\n",
    "\n",
    "    # Get indices of valid pixels\n",
    "    valid_mask = ~mask\n",
    "    valid_coords = np.array(np.nonzero(valid_mask)).T\n",
    "    missing_coords = np.array(np.nonzero(mask)).T\n",
    "\n",
    "    # Nearest neighbor fill: assign each missing pixel the value of the nearest valid pixel\n",
    "    filled_data = data.copy()\n",
    "    nearest_indices = ndimage.distance_transform_edt(\n",
    "        mask,\n",
    "        return_distances=False,\n",
    "        return_indices=True\n",
    "    )\n",
    "    filled_data[mask] = data[tuple(nearest_indices[:, mask])]\n",
    "\n",
    "    # Update profile (no nodata after filling)\n",
    "    profile.update(dtype=rasterio.uint8, nodata=None)\n",
    "\n",
    "    # Save filled raster\n",
    "    with rasterio.open(output_tif, \"w\", **profile) as dst:\n",
    "        dst.write(filled_data, 1)\n",
    "\n",
    "    print(f\"✅ Filled NoData values in {input_tif}\")\n",
    "    print(f\"➡️  Saved to {output_tif}\")\n",
    "\n",
    "\n",
    "# Example usage\n",
    "input_lulc = r\"C:\\Users\\Ankit\\Datasets_Forest_fire\\lulc_maps_tif\\LULC_2015_clipped_30m_aligned.tif\"\n",
    "output_lulc = input_lulc.replace(\"_aligned.tif\", \"_filled.tif\")\n",
    "\n",
    "fill_lulc_nodata(input_lulc, output_lulc, nodata_val=255)\n"
   ]
  },
  {
   "cell_type": "code",
   "execution_count": 2,
   "id": "6da14937-23aa-47ca-b8fa-bee7362a04a9",
   "metadata": {},
   "outputs": [
    {
     "name": "stdout",
     "output_type": "stream",
     "text": [
      "✅ Filled NoData values in C:\\Users\\Ankit\\Datasets_Forest_fire\\lulc_maps_tif\\LULC_2016_clipped_30m_aligned.tif\n",
      "➡️  Saved to C:\\Users\\Ankit\\Datasets_Forest_fire\\lulc_maps_tif\\LULC_2016_clipped_30m_filled.tif\n"
     ]
    }
   ],
   "source": [
    "import rasterio\n",
    "import numpy as np\n",
    "from scipy import ndimage\n",
    "\n",
    "def fill_lulc_nodata(input_tif, output_tif, nodata_val=255):\n",
    "    # Open LULC raster\n",
    "    with rasterio.open(input_tif) as src:\n",
    "        data = src.read(1)  # read first band\n",
    "        profile = src.profile\n",
    "\n",
    "    # Create mask of nodata\n",
    "    mask = (data == nodata_val)\n",
    "\n",
    "    if np.sum(mask) == 0:\n",
    "        print(\"No NoData values found. Nothing to fill.\")\n",
    "        return\n",
    "\n",
    "    # Get indices of valid pixels\n",
    "    valid_mask = ~mask\n",
    "    valid_coords = np.array(np.nonzero(valid_mask)).T\n",
    "    missing_coords = np.array(np.nonzero(mask)).T\n",
    "\n",
    "    # Nearest neighbor fill: assign each missing pixel the value of the nearest valid pixel\n",
    "    filled_data = data.copy()\n",
    "    nearest_indices = ndimage.distance_transform_edt(\n",
    "        mask,\n",
    "        return_distances=False,\n",
    "        return_indices=True\n",
    "    )\n",
    "    filled_data[mask] = data[tuple(nearest_indices[:, mask])]\n",
    "\n",
    "    # Update profile (no nodata after filling)\n",
    "    profile.update(dtype=rasterio.uint8, nodata=None)\n",
    "\n",
    "    # Save filled raster\n",
    "    with rasterio.open(output_tif, \"w\", **profile) as dst:\n",
    "        dst.write(filled_data, 1)\n",
    "\n",
    "    print(f\"✅ Filled NoData values in {input_tif}\")\n",
    "    print(f\"➡️  Saved to {output_tif}\")\n",
    "\n",
    "\n",
    "# Example usage\n",
    "input_lulc = r\"C:\\Users\\Ankit\\Datasets_Forest_fire\\lulc_maps_tif\\LULC_2016_clipped_30m_aligned.tif\"\n",
    "output_lulc = input_lulc.replace(\"_aligned.tif\", \"_filled.tif\")\n",
    "\n",
    "fill_lulc_nodata(input_lulc, output_lulc, nodata_val=255)\n"
   ]
  },
  {
   "cell_type": "code",
   "execution_count": null,
   "id": "e9afcfce-da4d-4352-880c-fdb3f3e5e923",
   "metadata": {},
   "outputs": [],
   "source": []
  }
 ],
 "metadata": {
  "kernelspec": {
   "display_name": "Python 3 (ipykernel)",
   "language": "python",
   "name": "python3"
  },
  "language_info": {
   "codemirror_mode": {
    "name": "ipython",
    "version": 3
   },
   "file_extension": ".py",
   "mimetype": "text/x-python",
   "name": "python",
   "nbconvert_exporter": "python",
   "pygments_lexer": "ipython3",
   "version": "3.10.0"
  }
 },
 "nbformat": 4,
 "nbformat_minor": 5
}
