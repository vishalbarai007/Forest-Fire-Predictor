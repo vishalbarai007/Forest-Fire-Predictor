{
 "cells": [
  {
   "cell_type": "code",
   "execution_count": 7,
   "id": "8c4f9760-3bb1-4176-93c1-1a399b05457f",
   "metadata": {},
   "outputs": [
    {
     "name": "stdout",
     "output_type": "stream",
     "text": [
      "File: C:\\Users\\Ankit\\OneDrive\\Desktop\\Datasets_Forest_fire\\lulc_maps_tif\\LULC_2015_clipped.tif\n",
      "CRS: EPSG:4326\n",
      "Pixel size (width): 0.00416667 degrees\n",
      "Pixel size (height): 0.00416667 degrees\n"
     ]
    }
   ],
   "source": [
    "import rasterio\n",
    "from pathlib import Path\n",
    "\n",
    "def check_pixel_size_tif_precise(tif_path):\n",
    "    with rasterio.open(tif_path) as src:\n",
    "        transform = src.transform\n",
    "        pixel_width = transform.a\n",
    "        pixel_height = -transform.e  # make positive\n",
    "        crs = src.crs\n",
    "        \n",
    "        print(f\"File: {tif_path}\")\n",
    "        print(f\"CRS: {crs}\")\n",
    "        print(f\"Pixel size (width): {pixel_width:.8f} {'m' if crs.is_projected else 'degrees'}\")\n",
    "        print(f\"Pixel size (height): {pixel_height:.8f} {'m' if crs.is_projected else 'degrees'}\")\n",
    "\n",
    "# Example usage\n",
    "lulc_file = Path(r\"C:\\Users\\Ankit\\OneDrive\\Desktop\\Datasets_Forest_fire\\lulc_maps_tif\\LULC_2015_clipped.tif\")\n",
    "check_pixel_size_tif_precise(lulc_file)\n"
   ]
  },
  {
   "cell_type": "code",
   "execution_count": 6,
   "id": "6e4511d1-dd03-4268-83cd-7461830e5f01",
   "metadata": {},
   "outputs": [],
   "source": [
    "import rasterio\n",
    "from rasterio.warp import reproject, Resampling\n",
    "import numpy as np "
   ]
  },
  {
   "cell_type": "code",
   "execution_count": 15,
   "id": "3597f1da-1936-4771-b515-88e5607fc77a",
   "metadata": {},
   "outputs": [],
   "source": [
    "# Input files\n",
    "lulc_file = r\"C:\\Users\\Ankit\\Datasets_Forest_fire\\lulc_maps_tif\\LULC_2016_clipped.tif\"\n",
    "viirs_file = r\"C:\\Users\\Ankit\\Datasets_Forest_fire\\VIIRS_fire_time_stack.tif\"\n",
    "out_file = r\"C:\\Users\\Ankit\\Datasets_Forest_fire\\LULC_2016_resampled_to_VIIRS.tif\""
   ]
  },
  {
   "cell_type": "code",
   "execution_count": 16,
   "id": "e0f805e5-adc3-4386-bad2-2f3cfdb584a8",
   "metadata": {},
   "outputs": [],
   "source": [
    "# Open reference (VIIRS grid)\n",
    "with rasterio.open(viirs_file) as ref:\n",
    "    ref_transform = ref.transform\n",
    "    ref_crs = ref.crs if ref.crs is not None else \"EPSG:4326\"   # 🔑 force CRS\n",
    "    ref_height = ref.height\n",
    "    ref_width = ref.width"
   ]
  },
  {
   "cell_type": "code",
   "execution_count": 17,
   "id": "59261b3b-3f4f-47a8-b2f8-421f11b12e81",
   "metadata": {},
   "outputs": [
    {
     "name": "stdout",
     "output_type": "stream",
     "text": [
      "✅ LULC resampled to VIIRS grid → C:\\Users\\Ankit\\Datasets_Forest_fire\\LULC_2016_resampled_to_VIIRS.tif\n"
     ]
    }
   ],
   "source": [
    "# Open LULC raster\n",
    "with rasterio.open(lulc_file) as src:\n",
    "    profile = src.profile.copy()\n",
    "    profile.update(\n",
    "        driver=\"GTiff\",\n",
    "        height=ref_height,\n",
    "        width=ref_width,\n",
    "        transform=ref_transform,\n",
    "        crs=ref_crs,\n",
    "        count=src.count,\n",
    "        dtype=src.dtypes[0],\n",
    "        compress=\"lzw\"\n",
    "    )\n",
    "\n",
    "    # Allocate destination\n",
    "    resampled = np.empty((src.count, ref_height, ref_width), dtype=src.dtypes[0])\n",
    "\n",
    "    # Reproject using nearest neighbour (for categorical LULC)\n",
    "    reproject(\n",
    "        source=rasterio.band(src, 1),\n",
    "        destination=resampled[0],\n",
    "        src_transform=src.transform,\n",
    "        src_crs=src.crs,\n",
    "        dst_transform=ref_transform,\n",
    "        dst_crs=ref_crs,\n",
    "        resampling=Resampling.nearest\n",
    "    )\n",
    "\n",
    "    # Save\n",
    "    with rasterio.open(out_file, \"w\", **profile) as dst:\n",
    "        dst.write(resampled)\n",
    "\n",
    "print(f\"✅ LULC resampled to VIIRS grid → {out_file}\")"
   ]
  },
  {
   "cell_type": "code",
   "execution_count": null,
   "id": "bdd07b31-1ee8-44b2-939c-0d958b080bce",
   "metadata": {},
   "outputs": [],
   "source": []
  }
 ],
 "metadata": {
  "kernelspec": {
   "display_name": "Python 3 (ipykernel)",
   "language": "python",
   "name": "python3"
  },
  "language_info": {
   "codemirror_mode": {
    "name": "ipython",
    "version": 3
   },
   "file_extension": ".py",
   "mimetype": "text/x-python",
   "name": "python",
   "nbconvert_exporter": "python",
   "pygments_lexer": "ipython3",
   "version": "3.10.0"
  }
 },
 "nbformat": 4,
 "nbformat_minor": 5
}
