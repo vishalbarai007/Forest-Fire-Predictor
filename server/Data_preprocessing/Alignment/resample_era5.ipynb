{
 "cells": [
  {
   "cell_type": "code",
   "execution_count": 1,
   "id": "61408730-76e1-47e7-8210-ffe60cdbb70a",
   "metadata": {},
   "outputs": [],
   "source": [
    "import rasterio\n",
    "from rasterio.warp import reproject, Resampling\n",
    "import glob, os\n",
    "import numpy as np"
   ]
  },
  {
   "cell_type": "code",
   "execution_count": 2,
   "id": "263e3e69-ebdc-4314-a617-ab2ddd5235a6",
   "metadata": {},
   "outputs": [],
   "source": [
    "era5_dir = r\"C:\\Users\\Ankit\\Datasets_Forest_fire\\ERA5_fast_tif_stacks\"   # input ERA5 folder\n",
    "ref_file = r\"C:\\Users\\Ankit\\Datasets_Forest_fire\\VIIRS_fire_time_stack.tif\"  # reference VIIRS raster\n",
    "out_dir = r\"C:\\Users\\Ankit\\Datasets_Forest_fire\\ERA5_resampled_to_VIIRS\"      # output folder\n",
    "os.makedirs(out_dir, exist_ok=True)"
   ]
  },
  {
   "cell_type": "code",
   "execution_count": 3,
   "id": "12df9d8c-7393-4c08-9756-495dec259a5d",
   "metadata": {},
   "outputs": [],
   "source": [
    "# Open VIIRS reference grid\n",
    "with rasterio.open(ref_file) as ref:\n",
    "    ref_profile = ref.profile\n",
    "    ref_transform = ref.transform\n",
    "    ref_crs = ref.crs if ref.crs is not None else \"EPSG:4326\"  # <-- force CRS if missing\n",
    "    ref_height = ref.height\n",
    "    ref_width = ref.width"
   ]
  },
  {
   "cell_type": "code",
   "execution_count": 4,
   "id": "286e3b08-0480-461f-9b2c-20d8487e8629",
   "metadata": {},
   "outputs": [
    {
     "name": "stdout",
     "output_type": "stream",
     "text": [
      "✅ Resampled ERA5_d2m_2015_2016_stack.tif → C:\\Users\\Ankit\\Datasets_Forest_fire\\ERA5_resampled_to_VIIRS\\ERA5_d2m_2015_2016_stack_toVIIRS.tif (17544 bands preserved)\n",
      "✅ Resampled ERA5_t2m_2015_2016_stack.tif → C:\\Users\\Ankit\\Datasets_Forest_fire\\ERA5_resampled_to_VIIRS\\ERA5_t2m_2015_2016_stack_toVIIRS.tif (17544 bands preserved)\n",
      "✅ Resampled ERA5_tp_2015_2016_stack.tif → C:\\Users\\Ankit\\Datasets_Forest_fire\\ERA5_resampled_to_VIIRS\\ERA5_tp_2015_2016_stack_toVIIRS.tif (17544 bands preserved)\n",
      "✅ Resampled ERA5_u10_2015_2016_stack.tif → C:\\Users\\Ankit\\Datasets_Forest_fire\\ERA5_resampled_to_VIIRS\\ERA5_u10_2015_2016_stack_toVIIRS.tif (17544 bands preserved)\n",
      "✅ Resampled ERA5_v10_2015_2016_stack.tif → C:\\Users\\Ankit\\Datasets_Forest_fire\\ERA5_resampled_to_VIIRS\\ERA5_v10_2015_2016_stack_toVIIRS.tif (17544 bands preserved)\n"
     ]
    }
   ],
   "source": [
    "# Loop through all ERA5 tif files\n",
    "import numpy as np \n",
    "for tif_file in glob.glob(os.path.join(era5_dir, \"*.tif\")):\n",
    "    with rasterio.open(tif_file) as src:\n",
    "        out_file = os.path.join(\n",
    "            out_dir,\n",
    "            os.path.basename(tif_file).replace(\".tif\", \"_toVIIRS.tif\")\n",
    "        )\n",
    "\n",
    "        # Prepare output profile\n",
    "        profile = src.profile.copy()\n",
    "        profile.update(\n",
    "            driver=\"GTiff\",\n",
    "            height=ref_height,\n",
    "            width=ref_width,\n",
    "            crs=ref_crs,\n",
    "            transform=ref_transform,\n",
    "            count=src.count,\n",
    "            dtype=src.dtypes[0],\n",
    "            compress=\"lzw\"\n",
    "        )\n",
    "\n",
    "        # Allocate destination array (bands, h, w)\n",
    "        resampled = np.empty((src.count, ref_height, ref_width), dtype=src.dtypes[0])\n",
    "\n",
    "        # Reproject all bands\n",
    "        reproject(\n",
    "            source=rasterio.band(src, list(range(1, src.count + 1))),\n",
    "            destination=resampled,\n",
    "            src_transform=src.transform,\n",
    "            src_crs=src.crs,\n",
    "            dst_transform=ref_transform,\n",
    "            dst_crs=ref_crs,\n",
    "            resampling=Resampling.bilinear\n",
    "        )\n",
    "\n",
    "        # Write resampled result\n",
    "        with rasterio.open(out_file, \"w\", **profile) as dst:\n",
    "            dst.write(resampled)\n",
    "\n",
    "        print(f\"✅ Resampled {os.path.basename(tif_file)} → {out_file} ({src.count} bands preserved)\")"
   ]
  },
  {
   "cell_type": "code",
   "execution_count": 5,
   "id": "737fde75-63c9-42dc-b5e6-50abff54df86",
   "metadata": {},
   "outputs": [
    {
     "name": "stdout",
     "output_type": "stream",
     "text": [
      "{'path': 'C:\\\\Users\\\\Ankit\\\\Datasets_Forest_fire\\\\ERA5_fast_tif_stacks\\\\ERA5_d2m_2015_2016_stack.tif', 'size_mb': 744.0819244384766, 'bands': 17544, 'shape': (13, 17), 'dtype': 'float32', 'crs': 'EPSG:4326', 'compress': 'DEFLATE', 'blocksize': (None, None)}\n",
      "{'path': 'C:\\\\Users\\\\Ankit\\\\Datasets_Forest_fire\\\\ERA5_resampled_to_VIIRS\\\\ERA5_d2m_2015_2016_stack_toVIIRS.tif', 'size_mb': 16.261449813842773, 'bands': 17544, 'shape': (13, 17), 'dtype': 'float32', 'crs': 'EPSG:4326', 'compress': 'LZW', 'blocksize': (None, None)}\n"
     ]
    }
   ],
   "source": [
    "import os\n",
    "import rasterio\n",
    "\n",
    "old_path = r\"C:\\Users\\Ankit\\Datasets_Forest_fire\\ERA5_fast_tif_stacks\\ERA5_d2m_2015_2016_stack.tif\"\n",
    "new_path = r\"C:\\Users\\Ankit\\Datasets_Forest_fire\\ERA5_resampled_to_VIIRS\\ERA5_d2m_2015_2016_stack_toVIIRS.tif\"\n",
    "\n",
    "def info(p):\n",
    "    with rasterio.open(p) as ds:\n",
    "        tags = ds.tags(ns='IMAGE_STRUCTURE')\n",
    "        return {\n",
    "            \"path\": p,\n",
    "            \"size_mb\": os.path.getsize(p)/1024/1024,\n",
    "            \"bands\": ds.count,\n",
    "            \"shape\": (ds.height, ds.width),\n",
    "            \"dtype\": ds.dtypes[0],\n",
    "            \"crs\": str(ds.crs),\n",
    "            \"compress\": tags.get(\"COMPRESSION\", \"None\"),\n",
    "            \"blocksize\": (tags.get(\"BLOCKXSIZE\"), tags.get(\"BLOCKYSIZE\")),\n",
    "        }\n",
    "\n",
    "print(info(old_path))\n",
    "print(info(new_path))\n"
   ]
  },
  {
   "cell_type": "code",
   "execution_count": null,
   "id": "ce7425b4-d614-4e9b-bb6b-f82247913e3d",
   "metadata": {},
   "outputs": [],
   "source": []
  }
 ],
 "metadata": {
  "kernelspec": {
   "display_name": "Python 3 (ipykernel)",
   "language": "python",
   "name": "python3"
  },
  "language_info": {
   "codemirror_mode": {
    "name": "ipython",
    "version": 3
   },
   "file_extension": ".py",
   "mimetype": "text/x-python",
   "name": "python",
   "nbconvert_exporter": "python",
   "pygments_lexer": "ipython3",
   "version": "3.10.0"
  }
 },
 "nbformat": 4,
 "nbformat_minor": 5
}
