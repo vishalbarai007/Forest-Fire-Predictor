{
 "cells": [
  {
   "cell_type": "code",
   "execution_count": 4,
   "id": "a9962310-6a02-4295-ac35-bd80c1aedc72",
   "metadata": {},
   "outputs": [
    {
     "name": "stdout",
     "output_type": "stream",
     "text": [
      "✅ VIIRS raster saved at: C:\\Users\\Ankit\\OneDrive\\Desktop\\Datasets_Forest_fire\\VIIRS_fire_label_2015_2016_30m.tif\n"
     ]
    }
   ],
   "source": [
    "import xarray as xr\n",
    "import rioxarray\n",
    "import rasterio\n",
    "\n",
    "# ==== User settings ====\n",
    "input_nc = r\"C:\\Users\\Ankit\\OneDrive\\Desktop\\Datasets_Forest_fire\\updated_viirs_binary_fire_2015_2016.nc\"\n",
    "output_tif = r\"C:\\Users\\Ankit\\OneDrive\\Desktop\\Datasets_Forest_fire\\VIIRS_fire_label_2015_2016_30m.tif\"\n",
    "variable_name = 'fire_label'  # VIIRS variable name in .nc file\n",
    "target_resolution = 30  # meters\n",
    "\n",
    "# Choose an appropriate projected CRS (replace with your area's UTM zone if known)\n",
    "target_crs = \"EPSG:32644\"\n",
    "\n",
    "# Open dataset\n",
    "ds = xr.open_dataset(input_nc)\n",
    "\n",
    "# Extract the variable\n",
    "da = ds[variable_name]\n",
    "\n",
    "# 🔹 Instead of picking only first timestep, combine all timesteps\n",
    "if 'time' in da.dims or 'valid_time' in da.dims:\n",
    "    time_dim = 'time' if 'time' in da.dims else 'valid_time'\n",
    "    # If fire occurred anytime → 1\n",
    "    da = da.max(dim=time_dim)\n",
    "\n",
    "# Write original CRS (assuming WGS84 lat/lon)\n",
    "da = da.rio.write_crs(\"EPSG:4326\")\n",
    "\n",
    "# Reproject to target CRS and 30 m resolution\n",
    "da_utm = da.rio.reproject(\n",
    "    target_crs,\n",
    "    resolution=target_resolution,\n",
    "    resampling=rasterio.enums.Resampling.nearest  # nearest for classes\n",
    ")\n",
    "\n",
    "# Save to GeoTIFF\n",
    "da_utm.rio.to_raster(output_tif)\n",
    "\n",
    "print(f\"✅ VIIRS raster saved at: {output_tif}\")\n"
   ]
  },
  {
   "cell_type": "code",
   "execution_count": 5,
   "id": "c0a4c66c-fe82-4b34-a38d-72e66b5fbde9",
   "metadata": {},
   "outputs": [
    {
     "name": "stdout",
     "output_type": "stream",
     "text": [
      "📌 File: C:\\Users\\Ankit\\OneDrive\\Desktop\\Datasets_Forest_fire\\VIIRS_fire_label_2015_2016_30m.tif\n",
      "Detected NoData value in metadata: nan\n",
      "Total pixels: 161942016\n",
      "Missing pixels: 4582882\n",
      "Missing percentage: 2.83%\n"
     ]
    }
   ],
   "source": [
    "import rioxarray\n",
    "import numpy as np\n",
    "\n",
    "# Path to your VIIRS 30m raster\n",
    "input_tif = r\"C:\\Users\\Ankit\\OneDrive\\Desktop\\Datasets_Forest_fire\\VIIRS_fire_label_2015_2016_30m.tif\"\n",
    "\n",
    "# Open raster\n",
    "da = rioxarray.open_rasterio(input_tif, masked=True)\n",
    "\n",
    "# Get NoData value from metadata\n",
    "nodata_val = da.rio.nodata\n",
    "print(f\"📌 File: {input_tif}\")\n",
    "print(f\"Detected NoData value in metadata: {nodata_val}\")\n",
    "\n",
    "# Get dimensions\n",
    "height = da.sizes[\"y\"]\n",
    "width = da.sizes[\"x\"]\n",
    "bands = da.sizes[\"band\"]\n",
    "\n",
    "# Total pixels\n",
    "total_pixels = height * width * bands\n",
    "\n",
    "# Count missing pixels\n",
    "if nodata_val is None:\n",
    "    missing_pixels = np.isnan(da.values).sum()\n",
    "else:\n",
    "    missing_pixels = np.isnan(da.values).sum() + np.sum(da.values == nodata_val)\n",
    "\n",
    "missing_percentage = (missing_pixels / total_pixels) * 100\n",
    "\n",
    "print(f\"Total pixels: {total_pixels}\")\n",
    "print(f\"Missing pixels: {missing_pixels}\")\n",
    "print(f\"Missing percentage: {missing_percentage:.2f}%\")\n"
   ]
  },
  {
   "cell_type": "code",
   "execution_count": null,
   "id": "7bb5fd44-fbe6-4056-9bd7-679eaf39e78d",
   "metadata": {},
   "outputs": [
    {
     "name": "stdout",
     "output_type": "stream",
     "text": [
      "Before fill: 4582882 / 161942016 (2.83%)\n"
     ]
    }
   ],
   "source": [
    "import rioxarray as rxr\n",
    "import numpy as np\n",
    "from scipy.ndimage import distance_transform_edt\n",
    "from rasterio.enums import Resampling\n",
    "\n",
    "# ==== Paths ====\n",
    "input_tif = r\"C:\\Users\\Ankit\\OneDrive\\Desktop\\Datasets_Forest_fire\\VIIRS_fire_label_2015_2016_30m.tif\"\n",
    "output_filled_tif =r\"C:\\Users\\Ankit\\OneDrive\\Desktop\\Datasets_Forest_fire\\VIIRS_fire_label_2015_2016_30m_filled.tif\"\n",
    "\n",
    "# ---- Load (masked=True makes NoData -> NaN in .values) ----\n",
    "da = rxr.open_rasterio(input_tif, masked=True)  # shape: (band, y, x)\n",
    "arr = da.values.astype(np.float32)              # ensure float for NaNs\n",
    "\n",
    "# ---- Stats before ----\n",
    "total = arr.size\n",
    "missing_before = np.isnan(arr).sum()\n",
    "print(f\"Before fill: {missing_before} / {total} ({missing_before/total*100:.2f}%)\")\n",
    "\n",
    "def fill_nearest_nan_2d(a2d: np.ndarray) -> np.ndarray:\n",
    "    \"\"\"\n",
    "    For a 2D array with NaNs, fill NaNs by copying the value from the nearest\n",
    "    non-NaN pixel (Euclidean distance in pixel space).\n",
    "    \"\"\"\n",
    "    data = a2d.copy()\n",
    "    nan_mask = np.isnan(data)\n",
    "    if not nan_mask.any():\n",
    "        return data  # nothing to fill\n",
    "\n",
    "    # distance_transform_edt on 'nan_mask' returns indices of nearest False (i.e., nearest valid)\n",
    "    # We want indices of nearest valid cells for every pixel\n",
    "    indices = distance_transform_edt(nan_mask, return_distances=False, return_indices=True)\n",
    "    nearest_y = indices[0]\n",
    "    nearest_x = indices[1]\n",
    "\n",
    "    # Copy nearest valid values into NaN locations\n",
    "    data[nan_mask] = data[nearest_y[nan_mask], nearest_x[nan_mask]]\n",
    "    return data\n",
    "\n",
    "# ---- Fill per band (works for single/multi-band) ----\n",
    "filled = arr.copy()\n",
    "for b in range(filled.shape[0]):\n",
    "    filled[b] = fill_nearest_nan_2d(filled[b])\n",
    "\n",
    "# ---- Build output DataArray & save ----\n",
    "filled_da = da.copy()\n",
    "filled_da.values = filled\n",
    "\n",
    "# Remove nodata in output since we've filled it; keep same grid/CRS\n",
    "filled_da = filled_da.rio.write_nodata(None)\n",
    "filled_da.rio.to_raster(\n",
    "    output_filled_tif,\n",
    "    compress=\"LZW\",  # keep file size reasonable\n",
    "    tiled=True,\n",
    ")\n",
    "\n",
    "# ---- Verify ----\n",
    "check = rxr.open_rasterio(output_filled_tif, masked=True).values\n",
    "missing_after = np.isnan(check).sum()\n",
    "print(f\"After fill:  {missing_after} / {check.size} ({missing_after/check.size*100:.2f}%)\")\n",
    "print(f\"✅ Saved: {output_filled_tif}\")\n"
   ]
  },
  {
   "cell_type": "code",
   "execution_count": 1,
   "id": "1779c587-4cff-4c20-9cf6-c2788134810c",
   "metadata": {},
   "outputs": [
    {
     "name": "stdout",
     "output_type": "stream",
     "text": [
      "Original missing pixels: 4582882\n",
      "Filled raster saved: C:\\Users\\Ankit\\OneDrive\\Desktop\\Datasets_Forest_fire\\VIIRS_fire_label_2015_2016_30m_filled.tif\n"
     ]
    }
   ],
   "source": [
    "import rasterio\n",
    "from rasterio.enums import Resampling\n",
    "import numpy as np\n",
    "\n",
    "# Input/output paths\n",
    "input_file = r\"C:\\Users\\Ankit\\OneDrive\\Desktop\\Datasets_Forest_fire\\VIIRS_fire_label_2015_2016_30m.tif\"\n",
    "output_file = r\"C:\\Users\\Ankit\\OneDrive\\Desktop\\Datasets_Forest_fire\\VIIRS_fire_label_2015_2016_30m_filled.tif\"\n",
    "\n",
    "# Open dataset\n",
    "with rasterio.open(input_file) as src:\n",
    "    profile = src.profile\n",
    "    data = src.read(1)  # read first band\n",
    "\n",
    "    # Identify missing pixels\n",
    "    nodata_val = src.nodata\n",
    "    mask = np.isnan(data) if nodata_val is None else (data == nodata_val)\n",
    "\n",
    "    print(\"Original missing pixels:\", mask.sum())\n",
    "\n",
    "    # Reproject to itself with nearest neighbor resampling → fills gaps\n",
    "    filled_data = src.read(\n",
    "        out_shape=src.shape,\n",
    "        resampling=Resampling.nearest\n",
    "    )[0]\n",
    "\n",
    "    # Copy metadata and save new raster\n",
    "    profile.update(dtype=rasterio.float32, compress=\"lzw\")\n",
    "\n",
    "    with rasterio.open(output_file, \"w\", **profile) as dst:\n",
    "        dst.write(filled_data.astype(rasterio.float32), 1)\n",
    "\n",
    "print(\"Filled raster saved:\", output_file)\n"
   ]
  },
  {
   "cell_type": "code",
   "execution_count": 4,
   "id": "cceae860-cded-463a-ae55-f249b0a7db47",
   "metadata": {},
   "outputs": [],
   "source": [
    "import rasterio\n",
    "with rasterio.open(r\"C:\\Users\\Ankit\\Datasets_Forest_fire\\VIIRS_fire_time_stack_frp.tif\") as src:\n",
    "    profile =src.profile"
   ]
  },
  {
   "cell_type": "code",
   "execution_count": 5,
   "id": "beee042b-60c3-409e-84c7-1f4a9798ca7c",
   "metadata": {},
   "outputs": [
    {
     "data": {
      "text/plain": [
       "{'driver': 'GTiff', 'dtype': 'float32', 'nodata': -9999.0, 'width': 17, 'height': 13, 'count': 17521, 'crs': CRS.from_wkt('GEOGCS[\"WGS 84\",DATUM[\"WGS_1984\",SPHEROID[\"WGS 84\",6378137,298.257223563,AUTHORITY[\"EPSG\",\"7030\"]],AUTHORITY[\"EPSG\",\"6326\"]],PRIMEM[\"Greenwich\",0,AUTHORITY[\"EPSG\",\"8901\"]],UNIT[\"degree\",0.0174532925199433,AUTHORITY[\"EPSG\",\"9122\"]],AXIS[\"Latitude\",NORTH],AXIS[\"Longitude\",EAST],AUTHORITY[\"EPSG\",\"4326\"]]'), 'transform': Affine(0.2352923529411759, 0.0, 77.00002,\n",
       "       0.0, -0.23075769230769247, 31.49988), 'blockxsize': 17, 'blockysize': 1, 'tiled': False, 'interleave': 'pixel'}"
      ]
     },
     "execution_count": 5,
     "metadata": {},
     "output_type": "execute_result"
    }
   ],
   "source": [
    "profile"
   ]
  },
  {
   "cell_type": "code",
   "execution_count": null,
   "id": "061d9231-371f-49bc-8c61-f0dd2649b1a8",
   "metadata": {},
   "outputs": [],
   "source": []
  }
 ],
 "metadata": {
  "kernelspec": {
   "display_name": "Python 3 (ipykernel)",
   "language": "python",
   "name": "python3"
  },
  "language_info": {
   "codemirror_mode": {
    "name": "ipython",
    "version": 3
   },
   "file_extension": ".py",
   "mimetype": "text/x-python",
   "name": "python",
   "nbconvert_exporter": "python",
   "pygments_lexer": "ipython3",
   "version": "3.13.7"
  }
 },
 "nbformat": 4,
 "nbformat_minor": 5
}
