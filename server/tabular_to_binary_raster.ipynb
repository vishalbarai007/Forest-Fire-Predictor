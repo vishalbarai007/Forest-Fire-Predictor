{
 "cells": [
  {
   "cell_type": "code",
   "execution_count": 2,
   "id": "41ebe25f-1a85-4018-95f4-0379f7baccf2",
   "metadata": {},
   "outputs": [],
   "source": [
    "import pandas as pd\n",
    "import numpy as np\n",
    "import xarray as xr\n",
    "from datetime import datetime"
   ]
  },
  {
   "cell_type": "code",
   "execution_count": 12,
   "id": "dee8b03a-7904-47c8-a64c-b483978c5f29",
   "metadata": {},
   "outputs": [],
   "source": [
    "VIIRS_FILE = r\"C:\\Users\\Ankit\\Downloads\\filtered_viirs.csv\"\n",
    "ERA5_FILE = r\"C:\\Users\\Ankit\\Downloads\\merged_era5_2015_2016.nc\"\n",
    "OUTPUT_FILE = r\"C:\\Users\\Ankit\\Downloads\\updated_viirs_binary_fire_2015_2016.nc\""
   ]
  },
  {
   "cell_type": "code",
   "execution_count": 13,
   "id": "e1a8fcdd-cc9e-4d77-a0d7-500698228364",
   "metadata": {},
   "outputs": [
    {
     "name": "stdout",
     "output_type": "stream",
     "text": [
      "📦 Loading ERA5 grid...\n"
     ]
    }
   ],
   "source": [
    "ds = xr.open_dataset(ERA5_FILE)\n",
    "\n",
    "latitudes = ds.latitude.values\n",
    "longitudes = ds.longitude.values\n",
    "times = pd.to_datetime(ds.valid_time.values)"
   ]
  },
  {
   "cell_type": "code",
   "execution_count": 14,
   "id": "d3102d33-c168-4643-a6b0-191512149c7a",
   "metadata": {},
   "outputs": [
    {
     "name": "stdout",
     "output_type": "stream",
     "text": [
      "📄 Reading VIIRS fire detections...\n"
     ]
    }
   ],
   "source": [
    "viirs_df = pd.read_csv(VIIRS_FILE)"
   ]
  },
  {
   "cell_type": "code",
   "execution_count": 15,
   "id": "a0485c8e-5e8d-4663-97b1-8f796dd0a528",
   "metadata": {},
   "outputs": [
    {
     "data": {
      "text/html": [
       "<div>\n",
       "<style scoped>\n",
       "    .dataframe tbody tr th:only-of-type {\n",
       "        vertical-align: middle;\n",
       "    }\n",
       "\n",
       "    .dataframe tbody tr th {\n",
       "        vertical-align: top;\n",
       "    }\n",
       "\n",
       "    .dataframe thead th {\n",
       "        text-align: right;\n",
       "    }\n",
       "</style>\n",
       "<table border=\"1\" class=\"dataframe\">\n",
       "  <thead>\n",
       "    <tr style=\"text-align: right;\">\n",
       "      <th></th>\n",
       "      <th>Unnamed: 0</th>\n",
       "      <th>latitude</th>\n",
       "      <th>longitude</th>\n",
       "      <th>brightness</th>\n",
       "      <th>scan</th>\n",
       "      <th>track</th>\n",
       "      <th>acq_date</th>\n",
       "      <th>acq_time</th>\n",
       "      <th>satellite</th>\n",
       "      <th>instrument</th>\n",
       "      <th>confidence</th>\n",
       "      <th>version</th>\n",
       "      <th>bright_t31</th>\n",
       "      <th>frp</th>\n",
       "      <th>daynight</th>\n",
       "      <th>type</th>\n",
       "    </tr>\n",
       "  </thead>\n",
       "  <tbody>\n",
       "    <tr>\n",
       "      <th>0</th>\n",
       "      <td>72176</td>\n",
       "      <td>29.09680</td>\n",
       "      <td>79.01381</td>\n",
       "      <td>329.99</td>\n",
       "      <td>0.45</td>\n",
       "      <td>0.39</td>\n",
       "      <td>2015-01-01</td>\n",
       "      <td>744</td>\n",
       "      <td>N</td>\n",
       "      <td>VIIRS</td>\n",
       "      <td>n</td>\n",
       "      <td>2</td>\n",
       "      <td>286.98</td>\n",
       "      <td>2.38</td>\n",
       "      <td>D</td>\n",
       "      <td>0</td>\n",
       "    </tr>\n",
       "    <tr>\n",
       "      <th>1</th>\n",
       "      <td>72177</td>\n",
       "      <td>28.84811</td>\n",
       "      <td>77.79187</td>\n",
       "      <td>331.86</td>\n",
       "      <td>0.51</td>\n",
       "      <td>0.41</td>\n",
       "      <td>2015-01-01</td>\n",
       "      <td>744</td>\n",
       "      <td>N</td>\n",
       "      <td>VIIRS</td>\n",
       "      <td>n</td>\n",
       "      <td>2</td>\n",
       "      <td>285.87</td>\n",
       "      <td>3.74</td>\n",
       "      <td>D</td>\n",
       "      <td>0</td>\n",
       "    </tr>\n",
       "    <tr>\n",
       "      <th>2</th>\n",
       "      <td>72178</td>\n",
       "      <td>28.98106</td>\n",
       "      <td>77.89695</td>\n",
       "      <td>330.35</td>\n",
       "      <td>0.50</td>\n",
       "      <td>0.41</td>\n",
       "      <td>2015-01-01</td>\n",
       "      <td>744</td>\n",
       "      <td>N</td>\n",
       "      <td>VIIRS</td>\n",
       "      <td>n</td>\n",
       "      <td>2</td>\n",
       "      <td>280.03</td>\n",
       "      <td>3.30</td>\n",
       "      <td>D</td>\n",
       "      <td>0</td>\n",
       "    </tr>\n",
       "    <tr>\n",
       "      <th>3</th>\n",
       "      <td>72179</td>\n",
       "      <td>29.07977</td>\n",
       "      <td>77.24300</td>\n",
       "      <td>326.44</td>\n",
       "      <td>0.53</td>\n",
       "      <td>0.42</td>\n",
       "      <td>2015-01-01</td>\n",
       "      <td>744</td>\n",
       "      <td>N</td>\n",
       "      <td>VIIRS</td>\n",
       "      <td>n</td>\n",
       "      <td>2</td>\n",
       "      <td>281.06</td>\n",
       "      <td>3.85</td>\n",
       "      <td>D</td>\n",
       "      <td>0</td>\n",
       "    </tr>\n",
       "    <tr>\n",
       "      <th>4</th>\n",
       "      <td>72180</td>\n",
       "      <td>28.97446</td>\n",
       "      <td>78.87379</td>\n",
       "      <td>326.37</td>\n",
       "      <td>0.45</td>\n",
       "      <td>0.39</td>\n",
       "      <td>2015-01-01</td>\n",
       "      <td>744</td>\n",
       "      <td>N</td>\n",
       "      <td>VIIRS</td>\n",
       "      <td>n</td>\n",
       "      <td>2</td>\n",
       "      <td>293.11</td>\n",
       "      <td>3.08</td>\n",
       "      <td>D</td>\n",
       "      <td>0</td>\n",
       "    </tr>\n",
       "  </tbody>\n",
       "</table>\n",
       "</div>"
      ],
      "text/plain": [
       "   Unnamed: 0  latitude  longitude  brightness  scan  track    acq_date  \\\n",
       "0       72176  29.09680   79.01381      329.99  0.45   0.39  2015-01-01   \n",
       "1       72177  28.84811   77.79187      331.86  0.51   0.41  2015-01-01   \n",
       "2       72178  28.98106   77.89695      330.35  0.50   0.41  2015-01-01   \n",
       "3       72179  29.07977   77.24300      326.44  0.53   0.42  2015-01-01   \n",
       "4       72180  28.97446   78.87379      326.37  0.45   0.39  2015-01-01   \n",
       "\n",
       "   acq_time satellite instrument confidence  version  bright_t31   frp  \\\n",
       "0       744         N      VIIRS          n        2      286.98  2.38   \n",
       "1       744         N      VIIRS          n        2      285.87  3.74   \n",
       "2       744         N      VIIRS          n        2      280.03  3.30   \n",
       "3       744         N      VIIRS          n        2      281.06  3.85   \n",
       "4       744         N      VIIRS          n        2      293.11  3.08   \n",
       "\n",
       "  daynight  type  \n",
       "0        D     0  \n",
       "1        D     0  \n",
       "2        D     0  \n",
       "3        D     0  \n",
       "4        D     0  "
      ]
     },
     "execution_count": 15,
     "metadata": {},
     "output_type": "execute_result"
    }
   ],
   "source": [
    "viirs_df.head()"
   ]
  },
  {
   "cell_type": "code",
   "execution_count": 16,
   "id": "64d6a7ba-4689-4cad-82d1-f60a8930b542",
   "metadata": {},
   "outputs": [
    {
     "name": "stdout",
     "output_type": "stream",
     "text": [
      "🧯 Fire points in 2015–2016: 68590\n"
     ]
    }
   ],
   "source": [
    "print(f\"🧯 Fire points in 2015–2016: {len(viirs_df)}\")"
   ]
  },
  {
   "cell_type": "code",
   "execution_count": 17,
   "id": "f8086669-736c-4501-a03b-812747409b45",
   "metadata": {},
   "outputs": [
    {
     "name": "stdout",
     "output_type": "stream",
     "text": [
      "🧱 Initializing raster...\n"
     ]
    }
   ],
   "source": [
    "binary_raster = np.zeros((len(times), len(latitudes), len(longitudes)), dtype=np.uint8)"
   ]
  },
  {
   "cell_type": "code",
   "execution_count": 18,
   "id": "07485917-25c3-4c1e-a3ca-295485b5fd50",
   "metadata": {},
   "outputs": [],
   "source": [
    "def get_nearest_idx(value, array):\n",
    "  return np.abs(array - value).argmin()"
   ]
  },
  {
   "cell_type": "code",
   "execution_count": 19,
   "id": "e6007212-5db5-467f-835e-1e35fda9d8c3",
   "metadata": {},
   "outputs": [
    {
     "name": "stdout",
     "output_type": "stream",
     "text": [
      "🔥 Mapping VIIRS points to raster grid...\n"
     ]
    }
   ],
   "source": [
    "print(\"🔥 Mapping VIIRS points to raster grid...\")"
   ]
  },
  {
   "cell_type": "code",
   "execution_count": 20,
   "id": "60a39b70-a481-4346-b81d-e8a8e333d377",
   "metadata": {},
   "outputs": [
    {
     "name": "stdout",
     "output_type": "stream",
     "text": [
      "✅ Done. Dropped 0 out-of-range points.\n",
      "💾 Saving binary raster to C:\\Users\\Ankit\\Downloads\\updated_viirs_binary_fire_2015_2016.nc...\n",
      "🎉 Finished: Binary raster saved.\n"
     ]
    }
   ],
   "source": [
    "\n",
    "viirs_df[\"acq_time\"] = viirs_df[\"acq_time\"].astype(str).str.zfill(4)\n",
    "hours = viirs_df[\"acq_time\"].str[:2]\n",
    "minutes = viirs_df[\"acq_time\"].str[2:]\n",
    "viirs_df[\"datetime\"] = pd.to_datetime(viirs_df[\"acq_date\"] + \" \" + hours + \":\" + minutes)\n",
    "\n",
    "\n",
    "dropped = 0\n",
    "for _, row in viirs_df.iterrows():\n",
    "    try:\n",
    "       \n",
    "        time_idx = get_nearest_idx(row[\"datetime\"], times)\n",
    "        lat_idx = get_nearest_idx(row[\"latitude\"], latitudes)\n",
    "        lon_idx = get_nearest_idx(row[\"longitude\"], longitudes)\n",
    "\n",
    "        binary_raster[time_idx, lat_idx, lon_idx] = 1\n",
    "    except IndexError:\n",
    "        dropped += 1\n",
    "        continue\n",
    "\n",
    "print(f\"Done. Dropped {dropped} out-of-range points.\")\n",
    "\n",
    "print(f\"💾 Saving binary raster to {OUTPUT_FILE}...\")\n",
    "fire_da = xr.DataArray(\n",
    "    binary_raster,\n",
    "    coords={\"time\": times, \"latitude\": latitudes, \"longitude\": longitudes},\n",
    "    dims=[\"time\", \"latitude\", \"longitude\"],\n",
    "    name=\"fire_label\"\n",
    ")\n",
    "\n",
    "fire_da.to_netcdf(OUTPUT_FILE)\n",
    "print(\"Finished: Binary raster saved.\")"
   ]
  },
  {
   "cell_type": "code",
   "execution_count": null,
   "id": "30e8cfb6-593b-4400-94ed-ed5c94f2b11e",
   "metadata": {},
   "outputs": [],
   "source": []
  }
 ],
 "metadata": {
  "kernelspec": {
   "display_name": "Python 3 (ipykernel)",
   "language": "python",
   "name": "python3"
  },
  "language_info": {
   "codemirror_mode": {
    "name": "ipython",
    "version": 3
   },
   "file_extension": ".py",
   "mimetype": "text/x-python",
   "name": "python",
   "nbconvert_exporter": "python",
   "pygments_lexer": "ipython3",
   "version": "3.13.7"
  }
 },
 "nbformat": 4,
 "nbformat_minor": 5
}
